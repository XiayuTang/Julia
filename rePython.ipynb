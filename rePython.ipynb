{
 "cells": [
  {
   "cell_type": "code",
   "execution_count": 1,
   "metadata": {},
   "outputs": [],
   "source": [
    "using LinearAlgebra\n",
    "using Plots\n",
    "using BenchmarkTools"
   ]
  },
  {
   "cell_type": "code",
   "execution_count": 2,
   "metadata": {},
   "outputs": [
    {
     "name": "stdout",
     "output_type": "stream",
     "text": [
      "search: \u001b[0m\u001b[1md\u001b[22m\u001b[0m\u001b[1mi\u001b[22m\u001b[0m\u001b[1ma\u001b[22m\u001b[0m\u001b[1mg\u001b[22m\u001b[0m\u001b[1mm\u001b[22m \u001b[0m\u001b[1md\u001b[22m\u001b[0m\u001b[1mi\u001b[22m\u001b[0m\u001b[1ma\u001b[22m\u001b[0m\u001b[1mg\u001b[22m \u001b[0m\u001b[1md\u001b[22m\u001b[0m\u001b[1mi\u001b[22m\u001b[0m\u001b[1ma\u001b[22m\u001b[0m\u001b[1mg\u001b[22mind \u001b[0m\u001b[1mD\u001b[22m\u001b[0m\u001b[1mi\u001b[22m\u001b[0m\u001b[1ma\u001b[22m\u001b[0m\u001b[1mg\u001b[22monal is\u001b[0m\u001b[1md\u001b[22m\u001b[0m\u001b[1mi\u001b[22m\u001b[0m\u001b[1ma\u001b[22m\u001b[0m\u001b[1mg\u001b[22m Bi\u001b[0m\u001b[1md\u001b[22m\u001b[0m\u001b[1mi\u001b[22m\u001b[0m\u001b[1ma\u001b[22m\u001b[0m\u001b[1mg\u001b[22monal Tri\u001b[0m\u001b[1md\u001b[22m\u001b[0m\u001b[1mi\u001b[22m\u001b[0m\u001b[1ma\u001b[22m\u001b[0m\u001b[1mg\u001b[22monal SymTri\u001b[0m\u001b[1md\u001b[22m\u001b[0m\u001b[1mi\u001b[22m\u001b[0m\u001b[1ma\u001b[22m\u001b[0m\u001b[1mg\u001b[22monal\n",
      "\n"
     ]
    },
    {
     "data": {
      "text/latex": [
       "\\begin{verbatim}\n",
       "diagm(kv::Pair{<:Integer,<:AbstractVector}...)\n",
       "\\end{verbatim}\n",
       "Construct a square matrix from \\texttt{Pair}s of diagonals and vectors. Vector \\texttt{kv.second} will be placed on the \\texttt{kv.first} diagonal. \\texttt{diagm} constructs a full matrix; if you want storage-efficient versions with fast arithmetic, see \\href{@ref}{\\texttt{Diagonal}}, \\href{@ref}{\\texttt{Bidiagonal}} \\href{@ref}{\\texttt{Tridiagonal}} and \\href{@ref}{\\texttt{SymTridiagonal}}.\n",
       "\n",
       "\\section{Examples}\n",
       "\\begin{verbatim}\n",
       "julia> diagm(1 => [1,2,3])\n",
       "4×4 Array{Int64,2}:\n",
       " 0  1  0  0\n",
       " 0  0  2  0\n",
       " 0  0  0  3\n",
       " 0  0  0  0\n",
       "\n",
       "julia> diagm(1 => [1,2,3], -1 => [4,5])\n",
       "4×4 Array{Int64,2}:\n",
       " 0  1  0  0\n",
       " 4  0  2  0\n",
       " 0  5  0  3\n",
       " 0  0  0  0\n",
       "\\end{verbatim}\n"
      ],
      "text/markdown": [
       "```\n",
       "diagm(kv::Pair{<:Integer,<:AbstractVector}...)\n",
       "```\n",
       "\n",
       "Construct a square matrix from `Pair`s of diagonals and vectors. Vector `kv.second` will be placed on the `kv.first` diagonal. `diagm` constructs a full matrix; if you want storage-efficient versions with fast arithmetic, see [`Diagonal`](@ref), [`Bidiagonal`](@ref) [`Tridiagonal`](@ref) and [`SymTridiagonal`](@ref).\n",
       "\n",
       "# Examples\n",
       "\n",
       "```jldoctest\n",
       "julia> diagm(1 => [1,2,3])\n",
       "4×4 Array{Int64,2}:\n",
       " 0  1  0  0\n",
       " 0  0  2  0\n",
       " 0  0  0  3\n",
       " 0  0  0  0\n",
       "\n",
       "julia> diagm(1 => [1,2,3], -1 => [4,5])\n",
       "4×4 Array{Int64,2}:\n",
       " 0  1  0  0\n",
       " 4  0  2  0\n",
       " 0  5  0  3\n",
       " 0  0  0  0\n",
       "```\n"
      ],
      "text/plain": [
       "\u001b[36m  diagm(kv::Pair{<:Integer,<:AbstractVector}...)\u001b[39m\n",
       "\n",
       "  Construct a square matrix from \u001b[36mPair\u001b[39ms of diagonals and vectors. Vector\n",
       "  \u001b[36mkv.second\u001b[39m will be placed on the \u001b[36mkv.first\u001b[39m diagonal. \u001b[36mdiagm\u001b[39m constructs a full\n",
       "  matrix; if you want storage-efficient versions with fast arithmetic, see\n",
       "  \u001b[36mDiagonal\u001b[39m, \u001b[36mBidiagonal\u001b[39m \u001b[36mTridiagonal\u001b[39m and \u001b[36mSymTridiagonal\u001b[39m.\n",
       "\n",
       "\u001b[1m  Examples\u001b[22m\n",
       "\u001b[1m  ≡≡≡≡≡≡≡≡≡≡\u001b[22m\n",
       "\n",
       "\u001b[36m  julia> diagm(1 => [1,2,3])\u001b[39m\n",
       "\u001b[36m  4×4 Array{Int64,2}:\u001b[39m\n",
       "\u001b[36m   0  1  0  0\u001b[39m\n",
       "\u001b[36m   0  0  2  0\u001b[39m\n",
       "\u001b[36m   0  0  0  3\u001b[39m\n",
       "\u001b[36m   0  0  0  0\u001b[39m\n",
       "\u001b[36m  \u001b[39m\n",
       "\u001b[36m  julia> diagm(1 => [1,2,3], -1 => [4,5])\u001b[39m\n",
       "\u001b[36m  4×4 Array{Int64,2}:\u001b[39m\n",
       "\u001b[36m   0  1  0  0\u001b[39m\n",
       "\u001b[36m   4  0  2  0\u001b[39m\n",
       "\u001b[36m   0  5  0  3\u001b[39m\n",
       "\u001b[36m   0  0  0  0\u001b[39m"
      ]
     },
     "execution_count": 2,
     "metadata": {},
     "output_type": "execute_result"
    }
   ],
   "source": [
    "? diagm"
   ]
  },
  {
   "cell_type": "code",
   "execution_count": null,
   "metadata": {},
   "outputs": [],
   "source": [
    "function chase(a::AbstractVector, b::AbstractVector, c::AbstractVector, d::AbstractVector)\n",
    "    n = length(b)\n",
    "    @assert n == length(d) == length(a)+1 == length(c) + 1\n",
    "    x = zeros(Float, n)\n",
    "    for k in 1:n-1\n",
    "        m = a[k] / b[k]\n",
    "        b[k+1] -= c[k] * m\n",
    "        d[k+1] -= d[k] * m\n",
    "    end\n",
    "    x[n] = d[n] / b[n]\n",
    "    for k in n-1:-1:1\n",
    "        x[k] = (d[k] - c[k] * x[k+1]) / b[k]\n",
    "    end\n",
    "    x\n",
    "end"
   ]
  }
 ],
 "metadata": {
  "kernelspec": {
   "display_name": "Julia 1.1.0",
   "language": "julia",
   "name": "julia-1.1"
  },
  "language_info": {
   "file_extension": ".jl",
   "mimetype": "application/julia",
   "name": "julia",
   "version": "1.1.0"
  }
 },
 "nbformat": 4,
 "nbformat_minor": 2
}
